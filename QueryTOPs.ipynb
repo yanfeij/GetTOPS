{
 "cells": [
  {
   "cell_type": "code",
   "execution_count": 1,
   "id": "362f3efd",
   "metadata": {},
   "outputs": [],
   "source": [
    "from TOPsTool import *"
   ]
  },
  {
   "cell_type": "code",
   "execution_count": 2,
   "id": "ebee551f",
   "metadata": {},
   "outputs": [],
   "source": [
    "abun_table='GS98.abun'\n",
    "abun_map='exampleAbunMapSingle.dat'\n",
    "out_dir='./'\n",
    "jobs=1"
   ]
  },
  {
   "cell_type": "code",
   "execution_count": 3,
   "id": "9f916567",
   "metadata": {},
   "outputs": [
    {
     "name": "stderr",
     "output_type": "stream",
     "text": [
      "Querying on 1 threads: 100%|█████████████████████████████████████| 1/1 [00:58<00:00, 58.88s/it]\n",
      "Writing Query Results to Disk: 100%|███████████████████████████| 1/1 [00:00<00:00, 1370.24it/s]\n"
     ]
    }
   ],
   "source": [
    "call_opdata(abun_map, abun_table, out_dir, jobs)"
   ]
  },
  {
   "cell_type": "code",
   "execution_count": 6,
   "id": "603a5d27",
   "metadata": {},
   "outputs": [
    {
     "name": "stderr",
     "output_type": "stream",
     "text": [
      "Querying on 1 threads: 100%|█████████████████████| 1/1 [02:56<00:00, 176.62s/it]\n",
      "Writing Query Results to Disk: 100%|█████████████| 1/1 [00:00<00:00, 126.02it/s]\n"
     ]
    }
   ],
   "source": [
    "call_opdata(abun_map, abun_table, out_dir, jobs,opacityType='multi')"
   ]
  },
  {
   "cell_type": "code",
   "execution_count": 7,
   "id": "1d2fcae2",
   "metadata": {},
   "outputs": [
    {
     "name": "stderr",
     "output_type": "stream",
     "text": [
      "Querying on 1 threads: 100%|██████████████████████| 1/1 [00:10<00:00, 10.80s/it]\n",
      "Writing Query Results to Disk: 100%|████████████| 1/1 [00:00<00:00, 1414.13it/s]\n"
     ]
    }
   ],
   "source": [
    "call_opdata(abun_map, abun_table, out_dir, jobs,opacityType='multi', SinglePoint=True, \n",
    "            ng='1000',outfilename='test_single.txt')"
   ]
  },
  {
   "cell_type": "code",
   "execution_count": 4,
   "id": "b590bb23",
   "metadata": {},
   "outputs": [
    {
     "name": "stderr",
     "output_type": "stream",
     "text": [
      "Querying on 1 threads: 100%|█████████████████████████████████████| 1/1 [00:27<00:00, 27.66s/it]\n",
      "Writing Query Results to Disk: 100%|████████████████████████████| 1/1 [00:00<00:00, 678.03it/s]\n"
     ]
    }
   ],
   "source": [
    "abun_table='GS98_mass.abun'\n",
    "call_opdata(abun_map, abun_table, out_dir, jobs, input_mass_frac=True)"
   ]
  },
  {
   "cell_type": "code",
   "execution_count": 3,
   "id": "a68b3aa6",
   "metadata": {},
   "outputs": [
    {
     "name": "stderr",
     "output_type": "stream",
     "text": [
      "Querying on 2 threads: 100%|██████████████████████| 4/4 [02:31<00:00, 37.86s/it]\n",
      "Writing Query Results to Disk: 100%|█████████████| 4/4 [00:00<00:00, 126.34it/s]\n"
     ]
    }
   ],
   "source": [
    "abun_map='exampleAbunMap.dat'\n",
    "abun_table='GS98.abun'\n",
    "jobs=2\n",
    "call_opdata(abun_map, abun_table, out_dir, jobs,opacityType='multi')"
   ]
  },
  {
   "cell_type": "code",
   "execution_count": 3,
   "id": "eddac7b9",
   "metadata": {},
   "outputs": [
    {
     "name": "stderr",
     "output_type": "stream",
     "text": [
      "\r",
      "Querying on 1 threads:   0%|                                                                                       | 0/1 [00:00<?, ?it/s]"
     ]
    },
    {
     "name": "stdout",
     "output_type": "stream",
     "text": [
      "0.6703000000 H 0.3103000000 He 0.0000000000 Li 0.0000000000 Be 0.0000000000 B 0.0023896791 C 0.0029834091 N 0.0085901767 O 0.0000000000 F 0.0015052846 Ne 0.0000000000 Na 0.0029117680 Mg 0.0000000000 Al 0.0005011808 Si 0.0000000000 P 0.0003292009 S 0.0000000000 Cl 0.0000643643 Ar 0.0000000000 K 0.0000498106 Ca 0.0000000000 Sc 0.0000000000 Ti 0.0000000000 V 0.0000000000 Cr 0.0000000000 Mn 0.0000592398 Fe 0.0000000000 Co 0.0000158861 Ni 0.0000000000 Cu 0.0000000000 Zn\n"
     ]
    },
    {
     "name": "stderr",
     "output_type": "stream",
     "text": [
      "Querying on 1 threads: 100%|███████████████████████████████████████████████████████████████████████████████| 1/1 [00:02<00:00,  2.72s/it]\n",
      "Writing Query Results to Disk: 100%|██████████████████████████████████████████████████████████████████████| 1/1 [00:00<00:00, 767.06it/s]\n"
     ]
    }
   ],
   "source": [
    "abun_map='exampleAbunMapSingle.dat'\n",
    "abun_table='GS98_mass.abun'\n",
    "jobs=1\n",
    "call_opdata(abun_map, abun_table, out_dir, jobs,SinglePoint=True,input_mass_frac=True,den='3.45899e-10',tem='0.01')"
   ]
  },
  {
   "cell_type": "code",
   "execution_count": null,
   "id": "d5316bd8",
   "metadata": {},
   "outputs": [],
   "source": []
  }
 ],
 "metadata": {
  "kernelspec": {
   "display_name": "Python 3 (ipykernel)",
   "language": "python",
   "name": "python3"
  },
  "language_info": {
   "codemirror_mode": {
    "name": "ipython",
    "version": 3
   },
   "file_extension": ".py",
   "mimetype": "text/x-python",
   "name": "python",
   "nbconvert_exporter": "python",
   "pygments_lexer": "ipython3",
   "version": "3.11.5"
  }
 },
 "nbformat": 4,
 "nbformat_minor": 5
}
