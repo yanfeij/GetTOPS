{
 "cells": [
  {
   "cell_type": "code",
   "execution_count": 1,
   "id": "362f3efd",
   "metadata": {},
   "outputs": [],
   "source": [
    "from TOPsTool import *"
   ]
  },
  {
   "cell_type": "code",
   "execution_count": 2,
   "id": "ebee551f",
   "metadata": {},
   "outputs": [],
   "source": [
    "abun_table='GS98.abun'\n",
    "abun_map='exampleAbunMapSingle.dat'\n",
    "out_dir='./'\n",
    "jobs=1"
   ]
  },
  {
   "cell_type": "code",
   "execution_count": 3,
   "id": "9f916567",
   "metadata": {},
   "outputs": [
    {
     "name": "stderr",
     "output_type": "stream",
     "text": [
      "Querying on 1 threads: 100%|██████████████████████| 1/1 [01:15<00:00, 75.70s/it]\n",
      "Writing Query Results to Disk: 100%|█████████████| 1/1 [00:00<00:00, 723.16it/s]\n"
     ]
    }
   ],
   "source": [
    "call_opdata(abun_map, abun_table, out_dir, jobs)"
   ]
  },
  {
   "cell_type": "code",
   "execution_count": 6,
   "id": "603a5d27",
   "metadata": {},
   "outputs": [
    {
     "name": "stderr",
     "output_type": "stream",
     "text": [
      "Querying on 1 threads: 100%|█████████████████████| 1/1 [02:56<00:00, 176.62s/it]\n",
      "Writing Query Results to Disk: 100%|█████████████| 1/1 [00:00<00:00, 126.02it/s]\n"
     ]
    }
   ],
   "source": [
    "call_opdata(abun_map, abun_table, out_dir, jobs,opacityType='multi')"
   ]
  },
  {
   "cell_type": "code",
   "execution_count": 7,
   "id": "1d2fcae2",
   "metadata": {},
   "outputs": [
    {
     "name": "stderr",
     "output_type": "stream",
     "text": [
      "Querying on 1 threads: 100%|██████████████████████| 1/1 [00:10<00:00, 10.80s/it]\n",
      "Writing Query Results to Disk: 100%|████████████| 1/1 [00:00<00:00, 1414.13it/s]\n"
     ]
    }
   ],
   "source": [
    "call_opdata(abun_map, abun_table, out_dir, jobs,opacityType='multi', SinglePoint=True, \n",
    "            ng='1000',outfilename='test_single.txt')"
   ]
  },
  {
   "cell_type": "code",
   "execution_count": null,
   "id": "b590bb23",
   "metadata": {},
   "outputs": [],
   "source": []
  }
 ],
 "metadata": {
  "kernelspec": {
   "display_name": "Python 3 (ipykernel)",
   "language": "python",
   "name": "python3"
  },
  "language_info": {
   "codemirror_mode": {
    "name": "ipython",
    "version": 3
   },
   "file_extension": ".py",
   "mimetype": "text/x-python",
   "name": "python",
   "nbconvert_exporter": "python",
   "pygments_lexer": "ipython3",
   "version": "3.11.5"
  }
 },
 "nbformat": 4,
 "nbformat_minor": 5
}
