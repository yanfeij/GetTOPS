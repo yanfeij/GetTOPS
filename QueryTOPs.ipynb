{
 "cells": [
  {
   "cell_type": "code",
   "execution_count": 1,
   "id": "362f3efd",
   "metadata": {},
   "outputs": [],
   "source": [
    "from TOPsTool import *"
   ]
  },
  {
   "cell_type": "code",
   "execution_count": 15,
   "id": "96f68ff9-b487-4dcd-b139-00592eb72936",
   "metadata": {},
   "outputs": [],
   "source": [
    "# run the following command to get correct certificate (remove the commands #)"
   ]
  },
  {
   "cell_type": "code",
   "execution_count": 16,
   "id": "82d4fff5-9352-4243-925f-5cee05569e07",
   "metadata": {},
   "outputs": [],
   "source": [
    "#!openssl s_client -showcerts -connect aphysics2.lanl.gov:443 </dev/null 2>/dev/null  | awk '/BEGIN CERTIFICATE/,/END CERTIFICATE/' > tops.crt\n",
    "#cert_file=certifi.where()\n",
    "#source_file=\"tops.crt\"\n",
    "#import subprocess\n",
    "#command = f\"cat {source_file} >> {cert_file}\"\n",
    "#subprocess.run(command, shell=True, check=True)"
   ]
  },
  {
   "cell_type": "code",
   "execution_count": 2,
   "id": "ebee551f",
   "metadata": {},
   "outputs": [],
   "source": [
    "abun_table='GS98.abun'\n",
    "abun_map='exampleAbunMapSingle.dat'\n",
    "out_dir='./'\n",
    "jobs=1"
   ]
  },
  {
   "cell_type": "code",
   "execution_count": 3,
   "id": "9f916567",
   "metadata": {},
   "outputs": [
    {
     "name": "stderr",
     "output_type": "stream",
     "text": [
      "Querying on 1 threads: 100%|█████████████████████████████████████| 1/1 [00:58<00:00, 58.88s/it]\n",
      "Writing Query Results to Disk: 100%|███████████████████████████| 1/1 [00:00<00:00, 1370.24it/s]\n"
     ]
    }
   ],
   "source": [
    "call_opdata(abun_map, abun_table, out_dir, jobs)"
   ]
  },
  {
   "cell_type": "code",
   "execution_count": null,
   "id": "603a5d27",
   "metadata": {},
   "outputs": [
    {
     "name": "stderr",
     "output_type": "stream",
     "text": [
      "Querying on 1 threads:   0%|                                                     | 0/1 [00:00<?, ?it/s]"
     ]
    },
    {
     "name": "stdout",
     "output_type": "stream",
     "text": [
      "Unable to Query TOPS form for X670 Y310 Z19 . Attempt number 1 of 10\n",
      "HTTP Error 504: Gateway Time-out\n",
      "Unable to Query TOPS form for X670 Y310 Z19 . Attempt number 2 of 10\n",
      "HTTP Error 504: Gateway Time-out\n"
     ]
    }
   ],
   "source": [
    "call_opdata(abun_map, abun_table, out_dir, jobs,opacityType='multi')"
   ]
  },
  {
   "cell_type": "code",
   "execution_count": 5,
   "id": "1d2fcae2",
   "metadata": {},
   "outputs": [
    {
     "name": "stderr",
     "output_type": "stream",
     "text": [
      "Querying on 1 threads: 100%|█████████████████████████████████████████████| 1/1 [00:01<00:00,  1.71s/it]\n",
      "Writing Query Results to Disk: 100%|███████████████████████████████████| 1/1 [00:00<00:00, 1182.16it/s]\n"
     ]
    }
   ],
   "source": [
    "call_opdata(abun_map, abun_table, out_dir, jobs,opacityType='multi', SinglePoint=True, \n",
    "            ng='1000',outfilename='test_single.txt')"
   ]
  },
  {
   "cell_type": "code",
   "execution_count": 3,
   "id": "b590bb23",
   "metadata": {},
   "outputs": [
    {
     "name": "stderr",
     "output_type": "stream",
     "text": [
      "Querying on 1 threads: 100%|█████████████████████████████████████████████| 1/1 [00:25<00:00, 25.94s/it]\n",
      "Writing Query Results to Disk: 100%|███████████████████████████████████| 1/1 [00:00<00:00, 1254.28it/s]\n"
     ]
    }
   ],
   "source": [
    "abun_table='GS98_mass.abun'\n",
    "call_opdata(abun_map, abun_table, out_dir, jobs, input_mass_frac=True)"
   ]
  },
  {
   "cell_type": "code",
   "execution_count": 3,
   "id": "a68b3aa6",
   "metadata": {},
   "outputs": [
    {
     "ename": "FileNotFoundError",
     "evalue": "[Errno 2] No such file or directory: 'exampleAbunMap.dat'",
     "output_type": "error",
     "traceback": [
      "\u001b[0;31m---------------------------------------------------------------------------\u001b[0m",
      "\u001b[0;31mFileNotFoundError\u001b[0m                         Traceback (most recent call last)",
      "Cell \u001b[0;32mIn[3], line 4\u001b[0m\n\u001b[1;32m      2\u001b[0m abun_table\u001b[38;5;241m=\u001b[39m\u001b[38;5;124m'\u001b[39m\u001b[38;5;124mGS98.abun\u001b[39m\u001b[38;5;124m'\u001b[39m\n\u001b[1;32m      3\u001b[0m jobs\u001b[38;5;241m=\u001b[39m\u001b[38;5;241m2\u001b[39m\n\u001b[0;32m----> 4\u001b[0m \u001b[43mcall_opdata\u001b[49m\u001b[43m(\u001b[49m\u001b[43mabun_map\u001b[49m\u001b[43m,\u001b[49m\u001b[43m \u001b[49m\u001b[43mabun_table\u001b[49m\u001b[43m,\u001b[49m\u001b[43m \u001b[49m\u001b[43mout_dir\u001b[49m\u001b[43m,\u001b[49m\u001b[43m \u001b[49m\u001b[43mjobs\u001b[49m\u001b[43m,\u001b[49m\u001b[43mopacityType\u001b[49m\u001b[38;5;241;43m=\u001b[39;49m\u001b[38;5;124;43m'\u001b[39;49m\u001b[38;5;124;43mmulti\u001b[39;49m\u001b[38;5;124;43m'\u001b[39;49m\u001b[43m)\u001b[49m\n",
      "File \u001b[0;32m~/Research/Opacities/GetOpacityFromWeb/GetTOPS/TOPsTool.py:98\u001b[0m, in \u001b[0;36mcall_opdata\u001b[0;34m(aMap, aTable, outputDir, jobs, opacityType, emin, emax, ng, SinglePoint, outfilename, input_mass_frac, den, tem)\u001b[0m\n\u001b[1;32m     49\u001b[0m \u001b[38;5;250m\u001b[39m\u001b[38;5;124;03m\"\"\"\u001b[39;00m\n\u001b[1;32m     50\u001b[0m \u001b[38;5;124;03mMain TOPS psuedo API call function. Will save results to outputDir with\u001b[39;00m\n\u001b[1;32m     51\u001b[0m \u001b[38;5;124;03mfile format OP:IDX_X_Y_Z.dat where IDX is the ID of the composition (parallel\u001b[39;00m\n\u001b[0;32m   (...)\u001b[0m\n\u001b[1;32m     95\u001b[0m \u001b[38;5;124;03mopacities you will need to do so yourself.\u001b[39;00m\n\u001b[1;32m     96\u001b[0m \u001b[38;5;124;03m\"\"\"\u001b[39;00m\n\u001b[1;32m     97\u001b[0m parsed \u001b[38;5;241m=\u001b[39m open_and_parse(aTable,input_mass_frac)\n\u001b[0;32m---> 98\u001b[0m pContents \u001b[38;5;241m=\u001b[39m \u001b[43mparse_abundance_map\u001b[49m\u001b[43m(\u001b[49m\u001b[43maMap\u001b[49m\u001b[43m)\u001b[49m\n\u001b[1;32m     99\u001b[0m compList \u001b[38;5;241m=\u001b[39m \u001b[38;5;28mlist\u001b[39m()\n\u001b[1;32m    100\u001b[0m \u001b[38;5;28;01mfor\u001b[39;00m comp \u001b[38;5;129;01min\u001b[39;00m pContents:\n",
      "File \u001b[0;32m~/Research/Opacities/GetOpacityFromWeb/GetTOPS/TOPsTool.py:528\u001b[0m, in \u001b[0;36mparse_abundance_map\u001b[0;34m(path)\u001b[0m\n\u001b[1;32m    503\u001b[0m \u001b[38;5;28;01mdef\u001b[39;00m\u001b[38;5;250m \u001b[39m\u001b[38;5;21mparse_abundance_map\u001b[39m(path : \u001b[38;5;28mstr\u001b[39m) \u001b[38;5;241m-\u001b[39m\u001b[38;5;241m>\u001b[39m np\u001b[38;5;241m.\u001b[39mndarray:\n\u001b[1;32m    504\u001b[0m \u001b[38;5;250m    \u001b[39m\u001b[38;5;124;03m\"\"\"\u001b[39;00m\n\u001b[1;32m    505\u001b[0m \u001b[38;5;124;03m    Parse Hydrogen, Helium, and metal mass fraction out of a csv where each row\u001b[39;00m\n\u001b[1;32m    506\u001b[0m \u001b[38;5;124;03m    is one composition, the first column is X, second is Y, and the third is Z.\u001b[39;00m\n\u001b[0;32m   (...)\u001b[0m\n\u001b[1;32m    526\u001b[0m \n\u001b[1;32m    527\u001b[0m \u001b[38;5;124;03m    \"\"\"\u001b[39;00m\n\u001b[0;32m--> 528\u001b[0m     \u001b[38;5;28;01mwith\u001b[39;00m \u001b[38;5;28;43mopen\u001b[39;49m\u001b[43m(\u001b[49m\u001b[43mpath\u001b[49m\u001b[43m,\u001b[49m\u001b[43m \u001b[49m\u001b[38;5;124;43m'\u001b[39;49m\u001b[38;5;124;43mr\u001b[39;49m\u001b[38;5;124;43m'\u001b[39;49m\u001b[43m)\u001b[49m \u001b[38;5;28;01mas\u001b[39;00m f:\n\u001b[1;32m    529\u001b[0m         contents \u001b[38;5;241m=\u001b[39m f\u001b[38;5;241m.\u001b[39mread()\u001b[38;5;241m.\u001b[39msplit(\u001b[38;5;124m'\u001b[39m\u001b[38;5;130;01m\\n\u001b[39;00m\u001b[38;5;124m'\u001b[39m)\n\u001b[1;32m    530\u001b[0m         pContents \u001b[38;5;241m=\u001b[39m np\u001b[38;5;241m.\u001b[39marray([[\u001b[38;5;28mfloat\u001b[39m(y) \u001b[38;5;28;01mfor\u001b[39;00m y \u001b[38;5;129;01min\u001b[39;00m x\u001b[38;5;241m.\u001b[39msplit(\u001b[38;5;124m'\u001b[39m\u001b[38;5;124m,\u001b[39m\u001b[38;5;124m'\u001b[39m)]\n\u001b[1;32m    531\u001b[0m                                \u001b[38;5;28;01mfor\u001b[39;00m x \u001b[38;5;129;01min\u001b[39;00m contents\n\u001b[1;32m    532\u001b[0m                               \u001b[38;5;28;01mif\u001b[39;00m x \u001b[38;5;241m!=\u001b[39m \u001b[38;5;124m'\u001b[39m\u001b[38;5;124m'\u001b[39m \u001b[38;5;129;01mand\u001b[39;00m x\u001b[38;5;241m.\u001b[39mlstrip()[\u001b[38;5;241m0\u001b[39m] \u001b[38;5;241m!=\u001b[39m \u001b[38;5;124m'\u001b[39m\u001b[38;5;124m#\u001b[39m\u001b[38;5;124m'\u001b[39m])\n",
      "\u001b[0;31mFileNotFoundError\u001b[0m: [Errno 2] No such file or directory: 'exampleAbunMap.dat'"
     ]
    }
   ],
   "source": [
    "abun_map='exampleAbunMap.dat'\n",
    "abun_table='GS98.abun'\n",
    "jobs=2\n",
    "call_opdata(abun_map, abun_table, out_dir, jobs,opacityType='multi')"
   ]
  },
  {
   "cell_type": "code",
   "execution_count": 4,
   "id": "eddac7b9",
   "metadata": {},
   "outputs": [
    {
     "name": "stderr",
     "output_type": "stream",
     "text": [
      "Querying on 1 threads: 100%|█████████████████████████████████████████████| 1/1 [00:01<00:00,  1.64s/it]\n",
      "Writing Query Results to Disk: 100%|████████████████████████████████████| 1/1 [00:00<00:00, 570.19it/s]\n"
     ]
    }
   ],
   "source": [
    "abun_map='exampleAbunMapSingle.dat'\n",
    "abun_table='GS98_mass.abun'\n",
    "jobs=1\n",
    "call_opdata(abun_map, abun_table, out_dir, jobs,SinglePoint=True,input_mass_frac=True,den='3.45899e-10',tem='0.01')"
   ]
  },
  {
   "cell_type": "code",
   "execution_count": null,
   "id": "be3a706b",
   "metadata": {},
   "outputs": [],
   "source": []
  }
 ],
 "metadata": {
  "kernelspec": {
   "display_name": "Python 3 (ipykernel)",
   "language": "python",
   "name": "python3"
  },
  "language_info": {
   "codemirror_mode": {
    "name": "ipython",
    "version": 3
   },
   "file_extension": ".py",
   "mimetype": "text/x-python",
   "name": "python",
   "nbconvert_exporter": "python",
   "pygments_lexer": "ipython3",
   "version": "3.13.1"
  }
 },
 "nbformat": 4,
 "nbformat_minor": 5
}
